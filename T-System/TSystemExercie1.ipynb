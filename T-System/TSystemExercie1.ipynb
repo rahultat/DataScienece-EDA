{
  "nbformat": 4,
  "nbformat_minor": 0,
  "metadata": {
    "colab": {
      "name": "TSystemExercie1.ipynb",
      "provenance": [],
      "collapsed_sections": []
    },
    "kernelspec": {
      "name": "python3",
      "display_name": "Python 3"
    },
    "language_info": {
      "name": "python"
    }
  },
  "cells": [
    {
      "cell_type": "code",
      "execution_count": 2,
      "metadata": {
        "id": "icrTWlpGkVbH"
      },
      "outputs": [],
      "source": [
        "import json\n",
        "import requests\n",
        "import urllib.parse\n",
        "import pandas as pd \n",
        "import io\n",
        "import re\n",
        "\n",
        "import warnings                                                                 # Ignore warning related to pandas_profiling\n",
        "warnings.filterwarnings('ignore') \n",
        "\n",
        "pd.set_option('display.max_columns', 100)"
      ]
    },
    {
      "cell_type": "code",
      "source": [
        "def get_exchange_rate(source, target = \"EUR\"):\n",
        "  '''\n",
        "    Returns the dataframe with the value of we sent as an indetifier\n",
        "            Parameters:\n",
        "                    source (string): string user to exchange\n",
        "                    target (string): string user to exchange\n",
        "\n",
        "            Returns:\n",
        "                     ts(dataframe): data with given indentifer\n",
        "   '''\n",
        "\n",
        "  # Building blocks for the URL\n",
        "\n",
        "  entrypoint = 'https://sdw-wsrest.ecb.europa.eu/service/' # Using protocol 'https'\n",
        "  resource = 'data'           # The resource for data queries is always'data'\n",
        "  flowRef ='EXR'              # Dataflow describing the data that needs to be returned, exchange rates in this case\n",
        "  key = 'M.'+ source + '.' + target + '.SP00.A'\n",
        "  # key = 'Q.N.I8.W1.S1.S1.T.A.FA.D.F._Z.EUR._T._X.N'    # Defining the dimension values, explained below\n",
        "\n",
        "  # Define the parameters\n",
        "  parameters = {'detail':\"dataonly\"}\n",
        "  # Construct the URL: https://sdw-wsrest.ecb.europa.eu/service/data/EXR/D.CHF.EUR.SP00.A\n",
        "  request_url = entrypoint + resource + '/'+ flowRef + '/' + key\n",
        "\n",
        "  # Make the HTTP request\n",
        "  response = requests.get(request_url, params=parameters)\n",
        "\n",
        "  response = requests.get(request_url, params=parameters, headers={'Accept': 'text/csv'})\n",
        "  df = pd.read_csv(io.StringIO(response.text))\n",
        "  ts = df.filter(['TIME_PERIOD', 'OBS_VALUE',], axis=1)\n",
        "  # ts['KEY'] = ts['KEY'].str[4:]\n",
        "  # ts.rename(columns = {'KEY':'IDENTIFIER'}, inplace = True)\n",
        "  return ts\n",
        "\n",
        "  \n",
        "exchange_data_frame =  get_exchange_rate('GBP')\n",
        "\n",
        "\n"
      ],
      "metadata": {
        "id": "rMm1Uqbfkv_S"
      },
      "execution_count": 16,
      "outputs": []
    },
    {
      "cell_type": "code",
      "source": [
        "def get_raw_data(identifier) :\n",
        "  '''\n",
        "    Returns the dataframe with the value of we sent as an indetifier\n",
        "            Parameters:\n",
        "                    identifier (string): key\n",
        "                  \n",
        "\n",
        "            Returns:\n",
        "                     ts(dataframe): data with given indentifer\n",
        "   '''\n",
        "\n",
        "  # Building blocks for the URL\n",
        " \n",
        "  entrypoint = 'https://sdw-wsrest.ecb.europa.eu/service/' # Using protocol 'https'\n",
        "  resource = 'data'           # The resource for data queries is always'data'\n",
        "  flowRef ='BP6'              # Dataflow describing the data that needs to be returned, exchange rates in this case\n",
        "  key = identifier\n",
        "  # key = 'Q.N.I8.W1.S1.S1.T.A.FA.D.F._Z.EUR._T._X.N'    # Defining the dimension values, explained below\n",
        "\n",
        "  # Define the parameters\n",
        "  parameters = {'detail':\"dataonly\"}\n",
        "  # Construct the URL: https://sdw-wsrest.ecb.europa.eu/service/data/EXR/D.CHF.EUR.SP00.A\n",
        "  request_url = entrypoint + resource + '/'+ flowRef + '/' + key\n",
        "\n",
        "  # Make the HTTP request\n",
        "  response = requests.get(request_url, params=parameters)\n",
        "\n",
        "  response = requests.get(request_url, params=parameters, headers={'Accept': 'text/csv'})\n",
        "  df = pd.read_csv(io.StringIO(response.text))\n",
        "  \n",
        "  ts = df.filter(['TIME_PERIOD', 'OBS_VALUE',], axis=1)\n",
        "\n",
        "  return ts\n",
        "\n",
        "  \n",
        "raw_data_frame = get_raw_data(\"M.N.I8.W1.S1.S1.T.N.FA.F.F7.T.EUR._T.T.N\")\n",
        "\n",
        "\n"
      ],
      "metadata": {
        "id": "9rIALI7flnjI"
      },
      "execution_count": 17,
      "outputs": []
    },
    {
      "cell_type": "code",
      "source": [
        "def get_data(identifier, source= None):\n",
        "  '''\n",
        "    Returns the dataframe with the exchange rate data\n",
        "            Parameters:\n",
        "                    identifier (string): key\n",
        "                    source (string) : currency\n",
        "                  \n",
        "\n",
        "            Returns:\n",
        "                     final_df(dataframe): data with given indentifer\n",
        "   '''\n",
        "\n",
        "\n",
        "\n",
        "  raw_data_frame = get_raw_data(identifier)\n",
        "\n",
        "  if source is None:\n",
        "    return exchange_data_frame\n",
        "  else:\n",
        "    exchange_data_frame =  get_exchange_rate(source)\n",
        "    megre_df = pd.merge(raw_data_frame,exchange_data_frame, on = \"TIME_PERIOD\", how = 'inner')\n",
        "    megre_df['OBS_VALUE'] = megre_df['OBS_VALUE_x'] * megre_df['OBS_VALUE_y']\n",
        "    final_df=megre_df.filter(['TIME_PERIOD','OBS_VALUE'])\n",
        "    return final_df\n",
        "\n",
        "get_data(\"M.N.I8.W1.S1.S1.T.N.FA.F.F7.T.EUR._T.T.N\",\"GBP\")"
      ],
      "metadata": {
        "colab": {
          "base_uri": "https://localhost:8080/"
        },
        "id": "NKnLFFcEusye",
        "outputId": "816bd06e-9a56-4d8b-b580-f8ae44fadd90"
      },
      "execution_count": 22,
      "outputs": [
        {
          "output_type": "stream",
          "name": "stdout",
          "text": [
            "    TIME_PERIOD     OBS_VALUE\n",
            "0       1999-01   1003.524746\n",
            "1       1999-02    261.402398\n",
            "2       1999-03  -1072.241252\n",
            "3       1999-04  -2519.532218\n",
            "4       1999-05   1112.665941\n",
            "..          ...           ...\n",
            "270     2021-07  18585.959501\n",
            "271     2021-08  -7071.869956\n",
            "272     2021-09    615.240309\n",
            "273     2021-10   3888.862983\n",
            "274     2021-11  18559.896198\n",
            "\n",
            "[275 rows x 2 columns]\n"
          ]
        }
      ]
    }
  ]
}