{
  "nbformat": 4,
  "nbformat_minor": 0,
  "metadata": {
    "colab": {
      "name": "TSystemExercise2.ipynb",
      "provenance": [],
      "collapsed_sections": []
    },
    "kernelspec": {
      "name": "python3",
      "display_name": "Python 3"
    },
    "language_info": {
      "name": "python"
    }
  },
  "cells": [
    {
      "cell_type": "code",
      "execution_count": 65,
      "metadata": {
        "id": "scErcCiqIkhi"
      },
      "outputs": [],
      "source": [
        "import json\n",
        "import requests\n",
        "import urllib.parse\n",
        "import pandas as pd \n",
        "import io\n",
        "import re\n",
        "\n",
        "import warnings                                                                 # Ignore warning related to pandas_profiling\n",
        "warnings.filterwarnings('ignore') \n",
        "\n",
        "pd.set_option('display.max_columns', 100)"
      ]
    },
    {
      "cell_type": "code",
      "source": [
        "def get_transactions(identifier) :\n",
        "  '''\n",
        "    Returns the dataframe with the value of we sent as an indetifier\n",
        "            Parameters:\n",
        "                    identifier (string): key\n",
        "                  \n",
        "\n",
        "            Returns:\n",
        "                     ts(dataframe): data with given indentifer\n",
        "   '''\n",
        "\n",
        "  # Building blocks for the URL\n",
        "\n",
        "  entrypoint = 'https://sdw-wsrest.ecb.europa.eu/service/' # Using protocol 'https'\n",
        "  resource = 'data'           # The resource for data queries is always'data'\n",
        "  flowRef ='BSI'              # Dataflow describing the data that needs to be returned, exchange rates in this case\n",
        "  key = identifier\n",
        "  # key = 'Q.N.I8.W1.S1.S1.T.A.FA.D.F._Z.EUR._T._X.N'    # Defining the dimension values, explained below\n",
        "\n",
        "  # Define the parameters\n",
        "  parameters = {'detail':\"dataonly\"}\n",
        "  # Construct the URL: https://sdw-wsrest.ecb.europa.eu/service/data/EXR/D.CHF.EUR.SP00.A\n",
        "  request_url = entrypoint + resource + '/'+ flowRef + '/' + key\n",
        "\n",
        "  # Make the HTTP request\n",
        "  response = requests.get(request_url, params=parameters)\n",
        "\n",
        "  response = requests.get(request_url, params=parameters, headers={'Accept': 'text/csv'})\n",
        "  df = pd.read_csv(io.StringIO(response.text))\n",
        "  \n",
        "  ts = df.filter(['KEY','TIME_PERIOD', 'OBS_VALUE',], axis=1)\n",
        "  ts['KEY'] = ts['KEY'].str[4:]\n",
        "  ts.rename(columns = {'KEY':'IDENTIFIER'}, inplace = True)\n",
        "  return ts\n",
        "\n",
        "  \n",
        "data_frame =  get_transactions('Q.HR.N.A.A20.A.1.AT.2000.Z01.E')\n"
      ],
      "metadata": {
        "id": "ShLOvPPdIvZ3"
      },
      "execution_count": 66,
      "outputs": []
    },
    {
      "cell_type": "code",
      "source": [
        "def get_symmetric_identifier(indetifier, swap_comp):\n",
        "  '''\n",
        "    Returns the string with the symmetric value\n",
        "            Parameters:\n",
        "                    identifier (string): key\n",
        "                    swap_comp (dictionary) :  swap the values to form symmetric id\n",
        "\n",
        "            Returns:\n",
        "                     ts(string): symeetric_id\n",
        "   '''\n",
        "  indetifier_list = indetifier.split('.')\n",
        "  for key, value in swap_comp.items():\n",
        "      indetifier_list[key],indetifier_list[value] = indetifier_list[value],indetifier_list[key]\n",
        "  \n",
        "  asymetric_id = ''.join( i + '.'for i in indetifier_list)[:-1]\n",
        "  return asymetric_id\n",
        "\n",
        "\n",
        "identifier = get_symmetric_identifier(\"Q.HR.N.A.A20.A.1.AT.2000.Z01.E\", {1: 7, 2: 3})"
      ],
      "metadata": {
        "id": "49yQmHjzKqkf"
      },
      "execution_count": 67,
      "outputs": []
    },
    {
      "cell_type": "code",
      "source": [
        "def get_asymmetries(indetifier, swap_comp):\n",
        "  '''\n",
        "    Returns the string with the symmetric value\n",
        "            Parameters:\n",
        "                    identifier (string): key\n",
        "                    swap_comp (dictionary) :  swap the values to form symmetric id\n",
        "\n",
        "            Returns:\n",
        "                     megre_df(dataframe): data with delta of provided_id and symmetric id\n",
        "   '''\n",
        "  asymetric_id = get_symmetric_identifier(indetifier, swap_comp)\n",
        "  provided_id_df = get_transactions(indetifier)\n",
        "  asymetric_id_df = get_transactions(asymetric_id)\n",
        "  megre_df = pd.merge(provided_id_df,asymetric_id_df, on = \"TIME_PERIOD\", how = 'inner')\n",
        "  megre_df['DELTA'] = megre_df['OBS_VALUE_y'] - megre_df['OBS_VALUE_x']\n",
        "  megre_df.rename(columns = {'IDENTIFIER_x':'PROVIDED_ID','IDENTIFIER_y': 'SYMMETRIC_ID'}, inplace = True)\n",
        "  return megre_df.filter(['TIME_PERIOD','PROVIDED_ID','SYMMETRIC_ID','DELTA'])\n",
        "\n",
        "final_df = get_asymmetries(\"Q.HR.N.A.A20.A.1.AT.2000.Z01.E\", {1: 7})"
      ],
      "metadata": {
        "id": "tQtVcDymOStB"
      },
      "execution_count": 68,
      "outputs": []
    },
    {
      "cell_type": "code",
      "source": [
        "print(final_df)"
      ],
      "metadata": {
        "colab": {
          "base_uri": "https://localhost:8080/"
        },
        "id": "AFr2KEVliSpx",
        "outputId": "e0014e5e-c070-4f78-d097-8d552caa25e2"
      },
      "execution_count": 69,
      "outputs": [
        {
          "output_type": "stream",
          "name": "stdout",
          "text": [
            "   TIME_PERIOD                     PROVIDED_ID  \\\n",
            "0      2013-Q3  Q.HR.N.A.A20.A.1.AT.2000.Z01.E   \n",
            "1      2013-Q4  Q.HR.N.A.A20.A.1.AT.2000.Z01.E   \n",
            "2      2014-Q1  Q.HR.N.A.A20.A.1.AT.2000.Z01.E   \n",
            "3      2014-Q2  Q.HR.N.A.A20.A.1.AT.2000.Z01.E   \n",
            "4      2014-Q3  Q.HR.N.A.A20.A.1.AT.2000.Z01.E   \n",
            "5      2014-Q4  Q.HR.N.A.A20.A.1.AT.2000.Z01.E   \n",
            "6      2015-Q1  Q.HR.N.A.A20.A.1.AT.2000.Z01.E   \n",
            "7      2015-Q2  Q.HR.N.A.A20.A.1.AT.2000.Z01.E   \n",
            "8      2015-Q3  Q.HR.N.A.A20.A.1.AT.2000.Z01.E   \n",
            "9      2015-Q4  Q.HR.N.A.A20.A.1.AT.2000.Z01.E   \n",
            "10     2016-Q1  Q.HR.N.A.A20.A.1.AT.2000.Z01.E   \n",
            "11     2016-Q2  Q.HR.N.A.A20.A.1.AT.2000.Z01.E   \n",
            "12     2016-Q3  Q.HR.N.A.A20.A.1.AT.2000.Z01.E   \n",
            "13     2016-Q4  Q.HR.N.A.A20.A.1.AT.2000.Z01.E   \n",
            "14     2017-Q1  Q.HR.N.A.A20.A.1.AT.2000.Z01.E   \n",
            "15     2017-Q2  Q.HR.N.A.A20.A.1.AT.2000.Z01.E   \n",
            "16     2017-Q3  Q.HR.N.A.A20.A.1.AT.2000.Z01.E   \n",
            "17     2017-Q4  Q.HR.N.A.A20.A.1.AT.2000.Z01.E   \n",
            "18     2018-Q1  Q.HR.N.A.A20.A.1.AT.2000.Z01.E   \n",
            "19     2018-Q2  Q.HR.N.A.A20.A.1.AT.2000.Z01.E   \n",
            "20     2018-Q3  Q.HR.N.A.A20.A.1.AT.2000.Z01.E   \n",
            "21     2018-Q4  Q.HR.N.A.A20.A.1.AT.2000.Z01.E   \n",
            "22     2019-Q1  Q.HR.N.A.A20.A.1.AT.2000.Z01.E   \n",
            "23     2019-Q2  Q.HR.N.A.A20.A.1.AT.2000.Z01.E   \n",
            "24     2019-Q3  Q.HR.N.A.A20.A.1.AT.2000.Z01.E   \n",
            "25     2019-Q4  Q.HR.N.A.A20.A.1.AT.2000.Z01.E   \n",
            "26     2020-Q1  Q.HR.N.A.A20.A.1.AT.2000.Z01.E   \n",
            "27     2020-Q2  Q.HR.N.A.A20.A.1.AT.2000.Z01.E   \n",
            "28     2020-Q3  Q.HR.N.A.A20.A.1.AT.2000.Z01.E   \n",
            "29     2020-Q4  Q.HR.N.A.A20.A.1.AT.2000.Z01.E   \n",
            "30     2021-Q1  Q.HR.N.A.A20.A.1.AT.2000.Z01.E   \n",
            "31     2021-Q2  Q.HR.N.A.A20.A.1.AT.2000.Z01.E   \n",
            "32     2021-Q3  Q.HR.N.A.A20.A.1.AT.2000.Z01.E   \n",
            "\n",
            "                      SYMMETRIC_ID        DELTA  \n",
            "0   Q.AT.N.A.A20.A.1.HR.2000.Z01.E  8866.696900  \n",
            "1   Q.AT.N.A.A20.A.1.HR.2000.Z01.E  8875.099521  \n",
            "2   Q.AT.N.A.A20.A.1.HR.2000.Z01.E  9036.292579  \n",
            "3   Q.AT.N.A.A20.A.1.HR.2000.Z01.E  8809.512144  \n",
            "4   Q.AT.N.A.A20.A.1.HR.2000.Z01.E  8779.859666  \n",
            "5   Q.AT.N.A.A20.A.1.HR.2000.Z01.E  5953.732045  \n",
            "6   Q.AT.N.A.A20.A.1.HR.2000.Z01.E  5603.362328  \n",
            "7   Q.AT.N.A.A20.A.1.HR.2000.Z01.E  5560.306420  \n",
            "8   Q.AT.N.A.A20.A.1.HR.2000.Z01.E  5286.366342  \n",
            "9   Q.AT.N.A.A20.A.1.HR.2000.Z01.E  4986.442524  \n",
            "10  Q.AT.N.A.A20.A.1.HR.2000.Z01.E  4639.069829  \n",
            "11  Q.AT.N.A.A20.A.1.HR.2000.Z01.E  4652.070151  \n",
            "12  Q.AT.N.A.A20.A.1.HR.2000.Z01.E  4587.069396  \n",
            "13  Q.AT.N.A.A20.A.1.HR.2000.Z01.E  3870.074037  \n",
            "14  Q.AT.N.A.A20.A.1.HR.2000.Z01.E  3734.925670  \n",
            "15  Q.AT.N.A.A20.A.1.HR.2000.Z01.E  3643.920422  \n",
            "16  Q.AT.N.A.A20.A.1.HR.2000.Z01.E  3417.799199  \n",
            "17  Q.AT.N.A.A20.A.1.HR.2000.Z01.E  3344.790323  \n",
            "18  Q.AT.N.A.A20.A.1.HR.2000.Z01.E  3370.654521  \n",
            "19  Q.AT.N.A.A20.A.1.HR.2000.Z01.E  3329.646087  \n",
            "20  Q.AT.N.A.A20.A.1.HR.2000.Z01.E  3129.520431  \n",
            "21  Q.AT.N.A.A20.A.1.HR.2000.Z01.E  2918.516020  \n",
            "22  Q.AT.N.A.A20.A.1.HR.2000.Z01.E  2775.251231  \n",
            "23  Q.AT.N.A.A20.A.1.HR.2000.Z01.E  2968.701864  \n",
            "24  Q.AT.N.A.A20.A.1.HR.2000.Z01.E  2924.841047  \n",
            "25  Q.AT.N.A.A20.A.1.HR.2000.Z01.E  2755.714900  \n",
            "26  Q.AT.N.A.A20.A.1.HR.2000.Z01.E  2732.180775  \n",
            "27  Q.AT.N.A.A20.A.1.HR.2000.Z01.E  2743.603160  \n",
            "28  Q.AT.N.A.A20.A.1.HR.2000.Z01.E  2706.721498  \n",
            "29  Q.AT.N.A.A20.A.1.HR.2000.Z01.E  2547.351660  \n",
            "30  Q.AT.N.A.A20.A.1.HR.2000.Z01.E  2597.358167  \n",
            "31  Q.AT.N.A.A20.A.1.HR.2000.Z01.E  2575.196748  \n",
            "32  Q.AT.N.A.A20.A.1.HR.2000.Z01.E  2495.062319  \n"
          ]
        }
      ]
    }
  ]
}